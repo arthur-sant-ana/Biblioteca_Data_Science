{
 "cells": [
  {
   "cell_type": "markdown",
   "id": "f6525e70-ae14-4e82-a741-5dc13a7cfaae",
   "metadata": {},
   "source": [
    "### Creating masks from geojson files"
   ]
  },
  {
   "cell_type": "code",
   "execution_count": null,
   "id": "6990f306-3605-43d7-9952-e342900645f0",
   "metadata": {},
   "outputs": [],
   "source": [
    "#Defining function that creates masks from geojson files - 1=building, 0=no building\n",
    "def geojson_to_mask(geojson_path, image_path, output_mask_path=None):\n",
    "    # Load the reference image (to get metadata)\n",
    "    with rasterio.open(image_path) as src:\n",
    "        img_shape = (src.height, src.width)\n",
    "        img_transform = src.transform\n",
    "        img_crs = src.crs\n",
    "\n",
    "    # Load and reproject geojson to match image CRS\n",
    "    gdf = gpd.read_file(geojson_path)\n",
    "    if gdf.crs != img_crs:\n",
    "        gdf = gdf.to_crs(img_crs)\n",
    "\n",
    "    # Rasterize polygons into a binary mask\n",
    "    mask = rasterize(\n",
    "        [(geom, 1) for geom in gdf.geometry if geom.is_valid],\n",
    "        out_shape=img_shape,\n",
    "        transform=img_transform,\n",
    "        fill=0,\n",
    "        dtype='uint8'\n",
    "    )\n",
    "\n",
    "    # Optionally save the mask\n",
    "    if output_mask_path:\n",
    "        with rasterio.open(\n",
    "            output_mask_path,\n",
    "            'w',\n",
    "            driver='GTiff',\n",
    "            height=mask.shape[0],\n",
    "            width=mask.shape[1],\n",
    "            count=1,\n",
    "            dtype='uint8',\n",
    "            crs=img_crs,\n",
    "            transform=img_transform,\n",
    "        ) as dst:\n",
    "            dst.write(mask, 1)\n",
    "\n",
    "    return mask\n"
   ]
  },
  {
   "cell_type": "code",
   "execution_count": null,
   "id": "381e2ad4-39a3-4e6f-bf16-93b4cb00c59c",
   "metadata": {},
   "outputs": [],
   "source": [
    "geojson_dir = \"AWS_files/AOI_3_Paris_Train/geojson/buildings\"\n",
    "image_dir = \"AWS_files/AOI_3_Paris_Train/RGB-PanSharpen\"\n",
    "output_dir = \"AWS_files/masks\"\n",
    "\n",
    "os.makedirs(output_dir, exist_ok=True)\n",
    "\n",
    "for fname in os.listdir(geojson_dir):\n",
    "    if fname.endswith(\".geojson\"):\n",
    "        stem = fname.replace(\".geojson\", \"\")\n",
    "        stem = stem.replace(\"buildings\", '')\n",
    "        geojson_path = os.path.join(geojson_dir, fname)\n",
    "        image_path = os.path.join(image_dir, f\"RGB-PanSharpen{stem}.tif\")\n",
    "        output_path = os.path.join(output_dir, f\"RGB-PanSharpen{stem}_mask.tif\")\n",
    "        \n",
    "        mask = geojson_to_mask(geojson_path, image_path, output_path)\n",
    "        print(f\"Created mask for: {fname}\")\n"
   ]
  },
  {
   "cell_type": "markdown",
   "id": "328c0a7f-1807-41e1-b77f-1a2d6e4493d9",
   "metadata": {},
   "source": [
    "### Converting .tif images to .png (fastai does not accept .tif)"
   ]
  },
  {
   "cell_type": "code",
   "execution_count": null,
   "id": "330e2582-2f49-405f-81b2-952309860b3e",
   "metadata": {},
   "outputs": [],
   "source": [
    "def convert_tif_to_png(tif_path, png_path):\n",
    "    with rasterio.open(tif_path) as src:\n",
    "        img = src.read()  # shape: (bands, H, W)\n",
    "\n",
    "        # Use first 3 bands (assume RGB), and normalize to 0–255\n",
    "        if img.shape[0] >= 3:\n",
    "            img = img[:3]  # take only RGB bands\n",
    "        else:\n",
    "            raise ValueError(f\"Not enough bands in {tif_path.name}\")\n",
    "\n",
    "        # Normalize if dtype is not uint8\n",
    "        if img.dtype != np.uint8:\n",
    "            img = img.astype(np.float32)\n",
    "            img = (255 * (img - img.min()) / (img.max() - img.min())).astype(np.uint8)\n",
    "\n",
    "        img = np.transpose(img, (1, 2, 0))  # CHW to HWC\n",
    "        Image.fromarray(img).save(png_path)\n",
    "\n",
    "# Example usage:\n",
    "src_dir = Path('AWS_files/AOI_3_Paris_Train/RGB-PanSharpen')           # .tif folder\n",
    "dst_dir = Path('AWS_files/images_png')       # .png output folder\n",
    "dst_dir.mkdir(exist_ok=True)\n",
    "\n",
    "for tif_file in src_dir.glob(\"*.tif\"):\n",
    "    png_file = dst_dir / (tif_file.stem + \".png\")\n",
    "    try:\n",
    "        convert_tif_to_png(tif_file, png_file)\n",
    "        print(f\"Converted: {tif_file.name}\")\n",
    "    except Exception as e:\n",
    "        print(f\"❌ Failed to convert {tif_file.name}: {e}\")\n"
   ]
  },
  {
   "cell_type": "markdown",
   "id": "bad74e3e-2515-460a-b06f-9fd3abfbea57",
   "metadata": {},
   "source": [
    "### Converting test .tif files into .png"
   ]
  },
  {
   "cell_type": "code",
   "execution_count": null,
   "id": "dcc4a7e6-eee4-48a2-84f9-a6e23f69e62d",
   "metadata": {},
   "outputs": [],
   "source": [
    "src_dir = Path('AWS_files/AOI_3_Paris_Test_Public/RGB-PanSharpen')           # .tif folder\n",
    "dst_dir = Path('AWS_files/test_images_png')       # .png output folder\n",
    "dst_dir.mkdir(exist_ok=True)\n",
    "\n",
    "for tif_file in src_dir.glob(\"*.tif\"):\n",
    "    png_file = dst_dir / (tif_file.stem + \".png\")\n",
    "    try:\n",
    "        convert_tif_to_png(tif_file, png_file)\n",
    "        print(f\"Converted: {tif_file.name}\")\n",
    "    except Exception as e:\n",
    "        print(f\"❌ Failed to convert {tif_file.name}: {e}\")"
   ]
  }
 ],
 "metadata": {
  "kernelspec": {
   "display_name": "Python 3 (ipykernel)",
   "language": "python",
   "name": "python3"
  },
  "language_info": {
   "codemirror_mode": {
    "name": "ipython",
    "version": 3
   },
   "file_extension": ".py",
   "mimetype": "text/x-python",
   "name": "python",
   "nbconvert_exporter": "python",
   "pygments_lexer": "ipython3",
   "version": "3.12.2"
  }
 },
 "nbformat": 4,
 "nbformat_minor": 5
}
